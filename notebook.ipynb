{
 "cells": [
  {
   "cell_type": "markdown",
   "metadata": {},
   "source": [
    "## 1. La Revolución de Statcast\n",
    "<p><img style=\"float: left;margin:5px 20px 5px 1px\" src=\"https://assets.datacamp.com/production/project_250/img/judge_wide.jpg\"></p>\n",
    "<p>Él es Aaron Judge. Judge es uno de los jugadores más grandes en las Grandes Ligas de Béisbol con una altura de 2.01 m y un peso de 128 kg. También conectó <a href=\"https://www.mlb.com/news/aaron-judge-sets-statcast-exit-velocity-record/c-235640846\">el home run con el impacto más fuerte jamás registrado.</a> ¿Cómo sabemos esto?... Por <strong>Statcast</strong>.</p>\n",
    "<p>Statcast es un sistema de seguimiento de última generación que utiliza cámaras de alta resolución y equipos de radar para medir la ubicación y movimientos precisos de pelotas de béisbol y jugadores. Introducido en 2015 a los 30 estadios de béisbol de las grandes ligas, los datos de Statcast están revolucionando el juego. Los equipos están participando en una \"carrera armamentista\" de análisis de datos, contratando analistas en un intento de obtener una ventaja sobre su competencia. Este <a href=\"https://www.youtube.com/watch?v=9rOKGKhQe8U\">video</a> (en inglés) describe a detalle el sistema.</p>\n",
    "<p><strong>En este proyecto</strong>, vamos a discutir, analizar y visualizar datos de Statcast para comparar a Judge con otro compañero de equipo. Comencemos cargando los datos en nuestro Notebookk. Hay dos archivos csv, <code>judge.csv</code> y <code>stanton.csv</code>, que contienen información de Statcast de ambos jugadores en el periodo 2015-2017. Utilizaremos <code>pandas</code> para guardar nuestros datos en un <code>DataFrame</code>.</p>"
   ]
  },
  {
   "cell_type": "code",
   "execution_count": null,
   "metadata": {},
   "outputs": [],
   "source": [
    "import pandas as pd\n",
    "import matplotlib.pyplot as plt\n",
    "import seaborn as sns\n",
    "%matplotlib inline\n",
    "\n",
    "# Carga los datos de Aaron Judge\n",
    "judge = ...\n",
    "\n",
    "# Carga los datos de Giancarlo Stanton\n",
    "stanton = ..."
   ]
  },
  {
   "cell_type": "markdown",
   "metadata": {},
   "source": [
    "## 2. ¿Qué puede medir Statcast?\n",
    "<blockquote>\n",
    "  <p>Comenzando con el lanzamiento (pitcher), Statcast puede medir datos simples como la velocidad, el punto de lanzamiento y la velocidad de giro de cada lanzamiento.</p>\n",
    "  <p>Pasando a los bateadores (hitters), Statcast es capaz de medir la velocidad de salida, el ángulo de golpeo y el vector de la pelota cuando sale del bate. A partir de ahí, Statcast también puede rastrear el tiempo de suspensión y la distancia  que recorre una pelota.</p>\n",
    "</blockquote>\n",
    "<p>Let's inspect the last five rows of the <code>judge</code> DataFrame. You'll see that each row represents one pitch thrown to a batter. You'll also see that some columns have esoteric names. If these don't make sense now, don't worry. The relevant ones will be explained as necessary.</p>"
   ]
  },
  {
   "cell_type": "code",
   "execution_count": null,
   "metadata": {},
   "outputs": [],
   "source": [
    "# Esta es una función para mostrar todas las columnas en el \n",
    "# Jupyter Notebook\n",
    "pd.set_option('display.max_columns', None)\n",
    "\n",
    "# Muestra las últimas 5 filas del DataFrame de judge con el MÉTODO tail()\n",
    "# ... TU CÓDIGO PARA LA TAREA 2 ..."
   ]
  },
  {
   "cell_type": "markdown",
   "metadata": {},
   "source": [
    "## 3. Aaron juez y Giancarlo Stanton, bateadores prolíficos\n",
    "<p><img style=\"float: left;margin:5px 20px 5px 1px\" src=\"https://assets.datacamp.com/production/project_250/img/stanton_wide.jpg\"></p>\n",
    "<p>Este es Giancarlo Stanton. También es una persona muy grande, mide 1.98 m y pesa 111 kg. A pesar de no llevar la misma camiseta que Judge en las imágenes, en 2018 serán compañeros de los Yankees de Nueva York. Son similares en muchos aspectos, uno de los cuales es que conectan muchos home runs. Stanton y Judge lideraron el record de home runs en 2017, con <a href=\"https://www.youtube.com/watch?v=tJ6Bz5P6dg4\">59</a> y <a href=\"https://www.youtube.com/watch?v=Gw3pFHMM9fk\">52</a>, respectivamente.</p>\n",
    "<p>Stanton y Judge también tienen algunas diferencias. Uno se llama <a href=\"http://m.mlb.com/glossary/statcast/batted-ball-event\">eventos de bateo de pelota</a>, que es el término técnico para cualquier bateo de pelota que tiene algún efecto en el juego. La lista incluye outs (ponchados), hits (bateos) y errores. A continuación, encontrarás los recuentos de eventos de bateo de pelota para cada jugador en 2017. Las frecuencias de eventos son bastante diferentes.</p>\n",
    "<p>Filtremos el DataFrame con el método <code>.loc</code> para que la variable <code>game_year</code> sea igual a 2017. Quédate sólo con la variable <code>events</code>.</p>\n",
    "<p>En la función <code>print()</code> utiliza el nuevo objeto creado con el método <code>.value_counts</code> que nos permite contar los elementos de nuestro objeto.</p>"
   ]
  },
  {
   "cell_type": "code",
   "execution_count": null,
   "metadata": {},
   "outputs": [],
   "source": [
    "# Los eventos de bateo de pelota de Judge 2017\n",
    "judge_events_2017 = ...\n",
    "print(\"Aaron Judge batted ball event totals, 2017:\")\n",
    "print(...)\n",
    "\n",
    "# Los eventos de bateo de pelota de Stanton 2017\n",
    "stanton_events_2017 = ...\n",
    "print(\"\\nGiancarlo Stanton batted ball event totals, 2017:\")\n",
    "print(...)"
   ]
  },
  {
   "cell_type": "markdown",
   "metadata": {},
   "source": [
    "## 4. Analizando home runs\n",
    "<p> Judge se poncha más que Stanton. Stanton roba base más que Judge. Pero entremos en sus perfiles de golpes con más detalle. Dos de las métricas de Statcast más innovadoras son el ángulo de lanzamiento y la velocidad de salida:</p>\n",
    "<ul>\n",
    "<li><a href=\"http://m.mlb.com/glossary/statcast/launch-angle\">Ángulo de lanzamiento</a>: el ángulo vertical en el que la pelota sale del bate de un jugador.</li>\n",
    "<li><a href=\"http://m.mlb.com/glossary/statcast/exit-velocity\">Velocidad de salida</a>: la velocidad de la pelota de béisbol después de ser golpeada por el bate.</li>\n",
    "</ul>\n",
    "<p>Estos nuevos datos han cambiado la forma en que los equipos valoran tanto a los bateadores como a los lanzadores. ¿Por qué? Como dice el <a href=\"https://www.washingtonpost.com/graphics/sports/mlb-launch-angles-story/?utm_term=.8d088d31f098\">Washington Post</a>:</p>\n",
    "<blockquote>\n",
    "  <p>Es más probable que las bolas golpeadas con un ángulo de lanzamiento alto resulten en un buen bateo. Golpea lo suficientemente rápido y en el ángulo correcto, se convierten en home runs.</p>\n",
    "</blockquote>\n",
    "<p>Veamos la velocidad de salida frente al ángulo de lanzamiento y centrémonos solo en los home runs (2015-2017). Las dos primeras gráficas muestran puntos de datos. Los dos segundos muestran contornos suavizados para representar la densidad. (Las gráficas aún las haremos nosotros.)</p>"
   ]
  },
  {
   "cell_type": "code",
   "execution_count": null,
   "metadata": {},
   "outputs": [],
   "source": [
    "# Filtra los DataFrames para quedarnos con los home runs\n",
    "judge_hr = ...\n",
    "stanton_hr = ...\n",
    "\n",
    "# Graficamos tus datos por ti.\n",
    "fig1, axs1 = plt.subplots(ncols=2, sharex=True, sharey=True)\n",
    "sns.regplot(x='launch_angle', y='launch_speed', \n",
    "            fit_reg=False, color='tab:blue', \n",
    "            data=judge_hr, ax=axs1[0]).set_title('Aaron Judge\\nHome Runs conectados, 2015-2017')\n",
    "sns.regplot(x='launch_angle', y='launch_speed', \n",
    "            fit_reg=False, color='tab:blue', \n",
    "            data=stanton_hr, ax=axs1[1]).set_title('Giancarlo Stanton\\nHome Runs conectados, 2015-2017')\n",
    "\n",
    "fig2, axs2 = plt.subplots(ncols=2, sharex=True, sharey=True)\n",
    "sns.kdeplot(judge_hr.launch_angle, judge_hr.launch_speed, \n",
    "            cmap=\"Blues\", shade=True, shade_lowest=False, \n",
    "            ax=axs2[0]).set_title('Aaron Judge\\nHome Runs conectados, 2015-2017')\n",
    "sns.kdeplot(stanton_hr.launch_angle, stanton_hr.launch_speed, \n",
    "            cmap=\"Blues\", shade=True, shade_lowest=False, \n",
    "            ax=axs2[1]).set_title('Giancarlo Stanton\\nHome Runs conectados, 2015-2017')"
   ]
  },
  {
   "cell_type": "markdown",
   "metadata": {},
   "source": [
    "## 5. Home runs por velocidad de lanzamiento\n",
    "<p>Parece que Stanton conecta sus home runs ligeramente más bajos y un poco más fuertes que Judge, aunque esto debe tomarse con cautela dado el pequeño tamaño de muestra de home runs.</p>\n",
    "<p>Statcast no solo mide la velocidad de la bola que sale del bate, también mide la velocidad de la bola que sale de la mano del lanzador y comienza su viaje hacia el plato. Podemos usar estos datos para comparar los jonrones de Stanton y Judge en términos de velocidad de lanzamiento. A continuación, verás algunos diagramas de caja que muestran los resúmenes de cinco valores para cada jugador: mínimo, primer cuartil, mediana, tercer cuartil y máximo.</p>"
   ]
  },
  {
   "cell_type": "code",
   "execution_count": null,
   "metadata": {},
   "outputs": [],
   "source": [
    "# Combina los DataFrames de home runs de Judge y Stanton\n",
    "# Usa la función concat de pandas (Pista: utiliza \n",
    "# solo un argumento con una lista de DataFrames)\n",
    "judge_stanton_hr = ...\n",
    "\n",
    "# Una gráfica más para ti\n",
    "sns.boxplot(x='player_name', y='release_speed', color='tab:blue', data=judge_stanton_hr).set_title('Home Runs conectados, 2015-2017')"
   ]
  }
 ],
 "metadata": {
  "kernelspec": {
   "display_name": "Python 3",
   "language": "python",
   "name": "python3"
  },
  "language_info": {
   "codemirror_mode": {
    "name": "ipython",
    "version": 3
   },
   "file_extension": ".py",
   "mimetype": "text/x-python",
   "name": "python",
   "nbconvert_exporter": "python",
   "pygments_lexer": "ipython3",
   "version": "3.7.8"
  }
 },
 "nbformat": 4,
 "nbformat_minor": 4
}
